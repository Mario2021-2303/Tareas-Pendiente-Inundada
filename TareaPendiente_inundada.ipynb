{
  "nbformat": 4,
  "nbformat_minor": 0,
  "metadata": {
    "colab": {
      "provenance": [],
      "authorship_tag": "ABX9TyMJ4kt6I5DTxy4+/vldi34g",
      "include_colab_link": true
    },
    "kernelspec": {
      "name": "python3",
      "display_name": "Python 3"
    },
    "language_info": {
      "name": "python"
    }
  },
  "cells": [
    {
      "cell_type": "markdown",
      "metadata": {
        "id": "view-in-github",
        "colab_type": "text"
      },
      "source": [
        "<a href=\"https://colab.research.google.com/github/Mario2021-2303/Tareas-Pendiente-Inundada/blob/main/TareaPendiente_inundada.ipynb\" target=\"_parent\"><img src=\"https://colab.research.google.com/assets/colab-badge.svg\" alt=\"Open In Colab\"/></a>"
      ]
    },
    {
      "cell_type": "code",
      "execution_count": 1,
      "metadata": {
        "colab": {
          "base_uri": "https://localhost:8080/"
        },
        "id": "JnYPylUpoVQD",
        "outputId": "4cf6fe01-f813-4e0a-da2d-415853405e7d"
      },
      "outputs": [
        {
          "output_type": "stream",
          "name": "stdout",
          "text": [
            "El agua de la pendiente es\n",
            "52\n",
            "2 16 36\n"
          ]
        }
      ],
      "source": [
        "def calcular_agua_acumulada(terreno):\n",
        "    pila = []\n",
        "    agua_acumulada = []\n",
        "    nivel = 0\n",
        "    total_agua = 0\n",
        "\n",
        "    for i, c in enumerate(terreno):\n",
        "        if c == '/':\n",
        "            pila.append((nivel, i))  #Busca en el terreno, conserva el nivel yguarda la posición.\n",
        "            nivel += 1\n",
        "        elif c == '\\\\': #Representamos un terreno y du nivel de agua, en este caso decentente, así que suma 1\n",
        "            nivel -= 1\n",
        "            if pila and pila[-1][0] > nivel:  # Terreno asendente, cierra el nivel.\n",
        "                _, inicio = pila.pop()\n",
        "                agua = i - inicio  # Calculamos la distancia\n",
        "                total_agua += agua\n",
        "                # Sumamos el agua de cada región.\n",
        "                while agua_acumulada and agua_acumulada[-1][0] > inicio:\n",
        "                    agua += agua_acumulada.pop()[1]\n",
        "                agua_acumulada.append((inicio, agua))\n",
        "        elif c == '_':\n",
        "            pass  # planicie, no resta ni suma\n",
        "\n",
        "    # Extraer solo las áreas de agua acumulada\n",
        "    areas = [a[1] for a in agua_acumulada]\n",
        "\n",
        "    # Imprimimos los datos de la consola\n",
        "    print(total_agua)\n",
        "    if areas:\n",
        "        print(len(areas), *areas)\n",
        "    else:\n",
        "        print(0)\n",
        "\n",
        "\n",
        "pendiente = r\"\\\\///\\_/\\/\\\\\\\\/_/\\\\///__\\\\\\_\\\\/_\\/_/\\/\"\n",
        "\n",
        "\n",
        "print(\"El agua de la pendiente es\")\n",
        "calcular_agua_acumulada(pendiente)\n",
        "\n"
      ]
    }
  ]
}